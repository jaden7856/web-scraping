{
 "cells": [
  {
   "cell_type": "code",
   "execution_count": 1,
   "id": "dietary-ribbon",
   "metadata": {},
   "outputs": [],
   "source": [
    "import requests\n",
    "from bs4 import BeautifulSoup as bs\n",
    "import re"
   ]
  },
  {
   "cell_type": "code",
   "execution_count": 2,
   "id": "aggregate-banana",
   "metadata": {},
   "outputs": [
    {
     "name": "stdout",
     "output_type": "stream",
     "text": [
      "<class 'str'>\n"
     ]
    }
   ],
   "source": [
    "url = 'https://finance.yahoo.com/quote/005930.KS?p=005930.KS&.tsrc=fin-srch'\n",
    "\n",
    "res = requests.get(url)\n",
    "html = res.text\n",
    "soup = bs(html, 'html.parser')\n",
    "\n",
    "s = soup.select('#quote-header-info > div.Mt\\(15px\\) > div.D\\(ib\\).Mt\\(-5px\\).Mend\\(20px\\).Maw\\(56\\%\\)--tab768.Maw\\(52\\%\\).Ov\\(h\\).smartphone_Maw\\(85\\%\\).smartphone_Mend\\(0px\\) > div.D\\(ib\\) > h1')[0].text\n",
    "print(type(s))"
   ]
  },
  {
   "cell_type": "code",
   "execution_count": 38,
   "id": "casual-distribution",
   "metadata": {},
   "outputs": [
    {
     "name": "stdout",
     "output_type": "stream",
     "text": [
      "005930.KS\n"
     ]
    }
   ],
   "source": [
    "sym = re.search(r'\\([^)]*\\)', s)\n",
    "symbol = p.group(0).replace('(', '').replace(')', '')\n"
   ]
  },
  {
   "cell_type": "code",
   "execution_count": 6,
   "id": "encouraging-alexander",
   "metadata": {},
   "outputs": [
    {
     "data": {
      "text/plain": [
       "'Samsung Electronics Co., Ltd.'"
      ]
     },
     "execution_count": 6,
     "metadata": {},
     "output_type": "execute_result"
    }
   ],
   "source": [
    "s.split(' (')[0]"
   ]
  },
  {
   "cell_type": "code",
   "execution_count": null,
   "id": "sealed-airport",
   "metadata": {},
   "outputs": [],
   "source": []
  }
 ],
 "metadata": {
  "kernelspec": {
   "display_name": "Python 3",
   "language": "python",
   "name": "python3"
  },
  "language_info": {
   "codemirror_mode": {
    "name": "ipython",
    "version": 3
   },
   "file_extension": ".py",
   "mimetype": "text/x-python",
   "name": "python",
   "nbconvert_exporter": "python",
   "pygments_lexer": "ipython3",
   "version": "3.7.6"
  }
 },
 "nbformat": 4,
 "nbformat_minor": 5
}
