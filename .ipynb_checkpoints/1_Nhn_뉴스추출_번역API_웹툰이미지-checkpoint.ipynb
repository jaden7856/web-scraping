{
 "cells": [
  {
   "cell_type": "markdown",
   "metadata": {},
   "source": [
    "- 파파고 id = 6BrXjo2ExNSUtmO0zSyh\n",
    "- secret = 4ap8VA3I_I"
   ]
  },
  {
   "cell_type": "code",
   "execution_count": null,
   "metadata": {},
   "outputs": [],
   "source": [
    "import requests\n",
    "from bs4 import BeautifulSoup as bf\n",
    "from urllib.parse import urljoin"
   ]
  },
  {
   "cell_type": "code",
   "execution_count": null,
   "metadata": {},
   "outputs": [],
   "source": [
    "url = 'https://news.naver.com/'\n",
    "req_header = {\n",
    "    'user-agent' : ''\n",
    "}\n",
    "res = requests.get(url, headers=req_header)\n",
    "print(res.status_code)"
   ]
  },
  {
   "cell_type": "code",
   "execution_count": null,
   "metadata": {},
   "outputs": [],
   "source": [
    "# res.status_code == 200\n",
    "if res.ok:\n",
    "    # Response 객체에서 텍스트 추출\n",
    "    html = res.text\n",
    "    soup = bf(html, 'html.parser')\n",
    "    atag_list = soup.select(\"a[href*='main/read.nhn']\")\n",
    "    print(len(atag_list))\n",
    "    # print(atag_list)\n",
    "    \n",
    "    for idx, atag in enumerate(atag_list, 1):\n",
    "        title = atag.text.strip()\n",
    "        link = urljoin(url, atag['href'])\n",
    "        # print(f'{idx} : {title} / {link}')\n",
    "        "
   ]
  },
  {
   "cell_type": "markdown",
   "metadata": {},
   "source": [
    "# Papago API 호출\n",
    "\n",
    "* urlib 사용한 예제 코드"
   ]
  },
  {
   "cell_type": "code",
   "execution_count": null,
   "metadata": {},
   "outputs": [],
   "source": [
    "# 네이버 Papago NMT API 예제\n",
    "import os\n",
    "import sys\n",
    "import urllib.request\n",
    "client_id = \"6BrXjo2ExNSUtmO0zSyh\"\n",
    "client_secret = \"4ap8VA3I_I\"\n",
    "encText = urllib.parse.quote(\"At first glance, Garcia's decision to join his colleagues in challenging President-elect Joe Biden's Electoral College victory isn't particularly noteworthy.\")\n",
    "data = \"source=en&target=ko&text=\" + encText\n",
    "url = \"https://openapi.naver.com/v1/papago/n2mt\"\n",
    "request = urllib.request.Request(url)\n",
    "request.add_header(\"X-Naver-Client-Id\",client_id)\n",
    "request.add_header(\"X-Naver-Client-Secret\",client_secret)\n",
    "response = urllib.request.urlopen(request, data=data.encode(\"utf-8\"))\n",
    "rescode = response.getcode()\n",
    "if(rescode==200):\n",
    "    response_body = response.read()\n",
    "    print(response_body.decode('utf-8'))\n",
    "else:\n",
    "    print(\"Error Code:\" + rescode)"
   ]
  },
  {
   "cell_type": "code",
   "execution_count": null,
   "metadata": {},
   "outputs": [],
   "source": []
  },
  {
   "cell_type": "markdown",
   "metadata": {},
   "source": [
    "* requests 사용한 Papago 예제"
   ]
  },
  {
   "cell_type": "code",
   "execution_count": 4,
   "metadata": {},
   "outputs": [],
   "source": [
    "import requests\n",
    "\n",
    "def papago(client_id, client_secret, source, target, encText):\n",
    "    url = \"https://openapi.naver.com/v1/papago/n2mt\"\n",
    "    \n",
    "    req_header = {\n",
    "        \"X-Naver-Client-Id\" : client_id,\n",
    "        \"X-Naver-Client-Secret\" : client_secret\n",
    "    }\n",
    "    \n",
    "    req_param = {\n",
    "        \"source\" : source,\n",
    "        \"target\" : target,\n",
    "        \"text\" : encText\n",
    "    }\n",
    "\n",
    "    res = requests.post(url, data=req_param, headers=req_header)\n",
    "    \n",
    "    if res.ok:\n",
    "        print(res.text)\n",
    "        \n",
    "    return res"
   ]
  },
  {
   "cell_type": "code",
   "execution_count": 11,
   "metadata": {},
   "outputs": [
    {
     "name": "stdout",
     "output_type": "stream",
     "text": [
      "{\"message\":{\"@type\":\"response\",\"@service\":\"naverservice.nmt.proxy\",\"@version\":\"1.0.0\",\"result\":{\"srcLangType\":\"en\",\"tarLangType\":\"zh-CN\",\"translatedText\":\"乍一看,加西亚决定和同事一起挑战当选总统拜登的选举学院胜利并不特别引人注目。\",\"engineType\":\"N2MT\",\"pivot\":null}}}\n"
     ]
    }
   ],
   "source": [
    "client_id = \"6BrXjo2ExNSUtmO0zSyh\"\n",
    "client_secret = \"4ap8VA3I_I\"\n",
    "encText = \"At first glance, Garcia's decision to join his colleagues in challenging \\\n",
    "           President-elect Joe Biden's Electoral College victory isn't particularly noteworthy.\"\n",
    "\n",
    "\n",
    "res = papago(client_id, client_secret, 'en', 'zh-CN', encText)"
   ]
  },
  {
   "cell_type": "code",
   "execution_count": 12,
   "metadata": {},
   "outputs": [
    {
     "name": "stdout",
     "output_type": "stream",
     "text": [
      "乍一看,加西亚决定和同事一起挑战当选总统拜登的选举学院胜利并不特别引人注目。\n"
     ]
    }
   ],
   "source": [
    "result_json = res.json()\n",
    "result_text = result_json['message']['result']['translatedText']\n",
    "print(result_text)"
   ]
  },
  {
   "cell_type": "code",
   "execution_count": null,
   "metadata": {},
   "outputs": [],
   "source": []
  },
  {
   "cell_type": "markdown",
   "metadata": {},
   "source": [
    "* 웹툰 이미지 추출후 저장"
   ]
  },
  {
   "cell_type": "code",
   "execution_count": 14,
   "metadata": {},
   "outputs": [
    {
     "name": "stdout",
     "output_type": "stream",
     "text": [
      "20201208224844_76f3c22ccfa013e3c03632bc9f673dc7_IMAG01_1.jpg\n",
      "Writing to 20201208224844_76f3c22ccfa013e3c03632bc9f673dc7_IMAG01_1.jpg (111642 bytes)\n",
      "20201208224844_76f3c22ccfa013e3c03632bc9f673dc7_IMAG01_2.jpg\n",
      "Writing to 20201208224844_76f3c22ccfa013e3c03632bc9f673dc7_IMAG01_2.jpg (120702 bytes)\n",
      "20201208224844_76f3c22ccfa013e3c03632bc9f673dc7_IMAG01_3.jpg\n",
      "Writing to 20201208224844_76f3c22ccfa013e3c03632bc9f673dc7_IMAG01_3.jpg (216621 bytes)\n"
     ]
    }
   ],
   "source": [
    "import requests\n",
    "import os\n",
    "\n",
    "\n",
    "req_header = {\n",
    "    'referer' : 'https://comic.naver.com/webtoon/detail.nhn?titleId=626907&no=326&weekday=wed'\n",
    "}\n",
    "img_url_list = [\n",
    "    'https://image-comic.pstatic.net/webtoon/626907/326/20201208224844_76f3c22ccfa013e3c03632bc9f673dc7_IMAG01_1.jpg',\n",
    "    'https://image-comic.pstatic.net/webtoon/626907/326/20201208224844_76f3c22ccfa013e3c03632bc9f673dc7_IMAG01_2.jpg',\n",
    "    'https://image-comic.pstatic.net/webtoon/626907/326/20201208224844_76f3c22ccfa013e3c03632bc9f673dc7_IMAG01_3.jpg'\n",
    "]\n",
    "\n",
    "for img_url in img_url_list:\n",
    "    res = requests.get(img_url, headers=req_header)\n",
    "    if res.ok:\n",
    "        # Response 객체에서 binary 데이터를 가져올떄는 content 속성을 사용한다.\n",
    "        img_data = res.content\n",
    "        file_name = os.path.basename(img_url)\n",
    "        print(file_name)\n",
    "        \n",
    "        with open(file_name, 'wb') as file:\n",
    "            print(f'Writing to {file_name} ({len(img_data)} bytes)')\n",
    "            file.write(img_data)"
   ]
  },
  {
   "cell_type": "code",
   "execution_count": null,
   "metadata": {},
   "outputs": [],
   "source": []
  },
  {
   "cell_type": "code",
   "execution_count": null,
   "metadata": {},
   "outputs": [],
   "source": []
  },
  {
   "cell_type": "code",
   "execution_count": null,
   "metadata": {},
   "outputs": [],
   "source": []
  },
  {
   "cell_type": "code",
   "execution_count": null,
   "metadata": {},
   "outputs": [],
   "source": []
  },
  {
   "cell_type": "code",
   "execution_count": null,
   "metadata": {},
   "outputs": [],
   "source": []
  },
  {
   "cell_type": "code",
   "execution_count": null,
   "metadata": {},
   "outputs": [],
   "source": []
  },
  {
   "cell_type": "code",
   "execution_count": null,
   "metadata": {},
   "outputs": [],
   "source": []
  }
 ],
 "metadata": {
  "kernelspec": {
   "display_name": "Python 3",
   "language": "python",
   "name": "python3"
  },
  "language_info": {
   "codemirror_mode": {
    "name": "ipython",
    "version": 3
   },
   "file_extension": ".py",
   "mimetype": "text/x-python",
   "name": "python",
   "nbconvert_exporter": "python",
   "pygments_lexer": "ipython3",
   "version": "3.7.6"
  }
 },
 "nbformat": 4,
 "nbformat_minor": 4
}
